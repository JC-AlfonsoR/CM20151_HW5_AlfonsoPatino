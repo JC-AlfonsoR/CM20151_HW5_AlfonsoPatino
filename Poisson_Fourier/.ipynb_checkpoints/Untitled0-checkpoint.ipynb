{
 "metadata": {
  "name": ""
 },
 "nbformat": 3,
 "nbformat_minor": 0,
 "worksheets": [
  {
   "cells": [
    {
     "cell_type": "code",
     "collapsed": false,
     "input": [
      "%pylab inline"
     ],
     "language": "python",
     "metadata": {},
     "outputs": [
      {
       "output_type": "stream",
       "stream": "stdout",
       "text": [
        "Populating the interactive namespace from numpy and matplotlib\n"
       ]
      }
     ],
     "prompt_number": 51
    },
    {
     "cell_type": "code",
     "collapsed": false,
     "input": [
      "n = 100\n",
      "l = 2.0\n",
      "m = 1.0 #Masa de cada punto\n",
      "# Puntos aleatorios en x y\n",
      "Puntos = l*random_sample((3,2))"
     ],
     "language": "python",
     "metadata": {},
     "outputs": [],
     "prompt_number": 60
    },
    {
     "cell_type": "code",
     "collapsed": false,
     "input": [
      "dx,dy = l/10, l/10\n",
      "x = arange(0,l,dx)\n",
      "y = arange(0,l,dy)\n",
      "X,Y = meshgrid(x,y)\n",
      "X_g = X.ravel()\n",
      "Y_g = Y.ravel()"
     ],
     "language": "python",
     "metadata": {},
     "outputs": [],
     "prompt_number": 61
    },
    {
     "cell_type": "code",
     "collapsed": false,
     "input": [
      "figure(figsize=(8,8))\n",
      "plot(Puntos[:,0], Puntos[:,1],'bo')\n",
      "plot(X_g,Y_g,'o',color='black',ms=1)\n",
      "xlim(0,l)\n",
      "ylim(0,l)"
     ],
     "language": "python",
     "metadata": {},
     "outputs": [
      {
       "metadata": {},
       "output_type": "pyout",
       "prompt_number": 62,
       "text": [
        "(0, 2.0)"
       ]
      },
      {
       "metadata": {},
       "output_type": "display_data",
       "png": "[encoded data removed]",
       "text": [
        "<matplotlib.figure.Figure at 0x4384b50>"
       ]
      }
     ],
     "prompt_number": 62
    },
    {
     "cell_type": "code",
     "collapsed": false,
     "input": [
      "def vecinos(x_g, y_g, dx, dy, Puntos):\n",
      "    ## vecinos(x_g, y_g, dx, dy, Puntos)\n",
      "    #  Encuentra las particulas que estan a menos de dx/2 y dy/2 de la posicion x_g, y_g (del punto x_g, y_g de la grilla)\n",
      "    #\n",
      "    ## Inputs\n",
      "    #  x_g    double      Posicion x del punto en la grilla\n",
      "    #  y_g    double      Posicion y del punto en la grilla\n",
      "    # dx,dy   double      Dimensiones del cuadrado en la grilla\n",
      "    #  Puntos array n*2   Posiciones x,y de las n particulas muestreadas\n",
      "    #\n",
      "    ## Outputs\n",
      "    #  I       list [mx1]  Lista con los indices de las particulas vecinas al cuadrado de la grilla con posicon x_g,y_g     \n",
      "    #\n",
      "    ## Uso\n",
      "    # I = vecinos(x_g, y_g, dx, dy, Puntos)\n",
      "    n = len(Puntos)\n",
      "    I = [] # Indices de las particulas vecinas al punto de la grilla\n",
      "    for i in range(n):\n",
      "        if Puntos[i,0] - x_g <= dx/2 and Puntos[i,1] - y_g <= dy/2:\n",
      "            I.append(i)\n",
      "    return I\n",
      "\n",
      "## Definir grilla con los puntos en la esquina inferior izquierda de cada cuadrado"
     ],
     "language": "python",
     "metadata": {},
     "outputs": [],
     "prompt_number": 63
    },
    {
     "cell_type": "code",
     "collapsed": false,
     "input": [
      "Vecinos = []\n",
      "for x,y in Puntos:\n",
      "    print(x,y)\n",
      "    #Vecinos.append(vecinos())"
     ],
     "language": "python",
     "metadata": {},
     "outputs": [
      {
       "output_type": "stream",
       "stream": "stdout",
       "text": [
        "(0.87964180440703466, 0.31518973034862729)\n",
        "(0.58393121869568687, 0.39820499521564812)\n",
        "(0.64712360064900021, 0.14923840531080335)\n"
       ]
      }
     ],
     "prompt_number": 64
    },
    {
     "cell_type": "code",
     "collapsed": false,
     "input": [
      "a = random_sample((3,2))\n",
      "print(a)\n",
      "a1,a2 = a[1,:]"
     ],
     "language": "python",
     "metadata": {},
     "outputs": [
      {
       "output_type": "stream",
       "stream": "stdout",
       "text": [
        "[[ 0.60540733  0.34939825]\n",
        " [ 0.11495272  0.68253466]\n",
        " [ 0.9855377   0.58462557]]\n"
       ]
      }
     ],
     "prompt_number": 58
    },
    {
     "cell_type": "code",
     "collapsed": false,
     "input": [],
     "language": "python",
     "metadata": {},
     "outputs": []
    }
   ],
   "metadata": {}
  }
 ]
}