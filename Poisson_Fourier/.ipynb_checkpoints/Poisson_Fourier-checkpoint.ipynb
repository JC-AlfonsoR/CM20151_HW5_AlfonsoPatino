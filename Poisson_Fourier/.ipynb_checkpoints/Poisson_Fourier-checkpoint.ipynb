{
 "metadata": {
  "name": "",
  "signature": "sha256:341ea191a8188f92c23c61809eb4ab4b0ac9a7217d5d3bb9176ae8eb2c006736"
 },
 "nbformat": 3,
 "nbformat_minor": 0,
 "worksheets": [
  {
   "cells": [
    {
     "cell_type": "code",
     "collapsed": false,
     "input": [
      "%pylab inline"
     ],
     "language": "python",
     "metadata": {},
     "outputs": [
      {
       "output_type": "stream",
       "stream": "stdout",
       "text": [
        "Populating the interactive namespace from numpy and matplotlib\n"
       ]
      }
     ],
     "prompt_number": 148
    },
    {
     "cell_type": "markdown",
     "metadata": {},
     "source": [
      "###Definir puntos Aleatorios"
     ]
    },
    {
     "cell_type": "code",
     "collapsed": false,
     "input": [
      "n = 100\n",
      "l = 2.0\n",
      "m = 1.0 #Masa de cada punto\n",
      "# Puntos aleatorios en x y\n",
      "Puntos = l*random_sample((10,2))"
     ],
     "language": "python",
     "metadata": {},
     "outputs": [],
     "prompt_number": 221
    },
    {
     "cell_type": "markdown",
     "metadata": {},
     "source": [
      "###Definir Grilla"
     ]
    },
    {
     "cell_type": "code",
     "collapsed": false,
     "input": [
      "dx,dy = l/5, l/5\n",
      "x = arange(0,l,dx)\n",
      "y = arange(0,l,dy)\n",
      "X,Y = meshgrid(x,y)\n",
      "# Posiciones x,y de la grilla, cada punto representa la esquina inferior izquierda del cuadrado imaginario\n",
      "# En los arreglos X_g Y_g se guardan las posiciones de estos puntos en la grilla.\n",
      "# Graficamente, estos puntos se van llenando en filas de menor a mayor en x, y las filas se ordenan de menor a mayor en y\n",
      "X_g = X.ravel() \n",
      "Y_g = Y.ravel()"
     ],
     "language": "python",
     "metadata": {},
     "outputs": [],
     "prompt_number": 222
    },
    {
     "cell_type": "markdown",
     "metadata": {},
     "source": [
      "###Graficar"
     ]
    },
    {
     "cell_type": "code",
     "collapsed": false,
     "input": [
      "figure(figsize=(8,8))\n",
      "plot(Puntos[:,0], Puntos[:,1],'bo')\n",
      "plot(X_g, Y_g,'o',color='black',ms=1)\n",
      "xlim(min(X_g)-dx, max(X_g)+dx)\n",
      "ylim(min(Y_g)-dy, max(Y_g)+dy)"
     ],
     "language": "python",
     "metadata": {},
     "outputs": [
      {
       "metadata": {},
       "output_type": "pyout",
       "prompt_number": 223,
       "text": [
        "(-0.40000000000000002, 2.0)"
       ]
      },
      {
       "metadata": {},
       "output_type": "display_data",
       "png": "[encoded data removed]",
       "text": [
        "<matplotlib.figure.Figure at 0x74ff320>"
       ]
      }
     ],
     "prompt_number": 223
    },
    {
     "cell_type": "code",
     "collapsed": false,
     "input": [
      "def superponen(x_g, x_p, dx):\n",
      "    \"\"\"Analiza si el dominio x_p +- dx/2 esta dentro del rango x_g + dx . Devuelve True o False\n",
      "    Se modela que el cuadrado de la grilla esta determinado por el punto en su esquina inferior izquierda, mientras que el\n",
      "    cuadro de la particula tiene su centro en la posicion del punto de la particula\n",
      "        Inputs\n",
      "    x_g       double    Posicion del punto en la grilla. El dominio de la grilla se define como x_g + dx\n",
      "    x_p       double    Posicion de la particula\n",
      "    dx        double    Longitud del dominio para la particula y para la grilla\n",
      "    \n",
      "        Outputs\n",
      "    output    boolean\n",
      "    \"\"\"\n",
      "    # Dos casos: \n",
      "    # x_p puede ser mayor que x_g\n",
      "    # x_p puede ser menor que x_g\n",
      "    \n",
      "    if x_p == x_g: # Misma posicion\n",
      "        return True\n",
      "    elif x_p > x_g: # Particula a la derecha del punto en la grilla\n",
      "        if x_p - x_g <= 3/2*dx: # La maxima distancia entre xp y xg es 3/2 dx\n",
      "            return True\n",
      "        else:\n",
      "            return False\n",
      "    else: # Particula a la izquierda del punto en la grilla\n",
      "        if x_p + dx/2 -x_g >= 0:\n",
      "            return True\n",
      "        else:\n",
      "            return False\n",
      "    \n",
      "def vecinos(x_g, y_g, dx, dy, Puntos):\n",
      "    \"\"\"Encuentra las particulas cuyo dominio definido por xp+-dx/2 yp+-dy/2 esta incluido \n",
      "        en el dominio de la malla definido por x_g+dx y_g+dx\n",
      "\n",
      "        Inputs\n",
      "    x_g     double      Posicion x del punto en la grilla\n",
      "    y_g     double      Posicion y del punto en la grilla\n",
      "    dx,dy   double      Dimensiones del cuadrado en la grilla\n",
      "    Puntos array n*2   Posiciones x,y de las n particulas muestreadas\n",
      "\n",
      "        Outputs\n",
      "    I       list [m x 1]  Lista con los 'm' indices que representan las particulas cuyo dominio \n",
      "                            esta contenido en el dominio del cuadro de grilla especificado\n",
      "\n",
      "        Uso\n",
      "    I = vecinos(x_g, y_g, dx, dy, Puntos)\n",
      "    \"\"\"\n",
      "    n = len(Puntos)\n",
      "    I = [] # Indices de las particulas vecinas al punto de la grilla\n",
      "    \n",
      "    for i in range(n):\n",
      "        xp,yp = Puntos[i,:]\n",
      "        if (superponen(x_g,xp,dx) and superponen(y_g, yp, dy)):\n",
      "            I.append(i)\n",
      "    \"\"\"    \n",
      "    for i in range(n):\n",
      "        Dx = Puntos[i,0]-x_g\n",
      "        Dy = Puntos[i,1]-y_g\n",
      "        if (Dx<=dx and Dx>=0) and (Dy<=dy and Dy >= 0):\n",
      "            I.append(i)\n",
      "    \"\"\"\n",
      "    return I\n",
      "\n",
      "## Definir grilla con los puntos en la esquina inferior izquierda de cada cuadrado"
     ],
     "language": "python",
     "metadata": {},
     "outputs": [],
     "prompt_number": 229
    },
    {
     "cell_type": "code",
     "collapsed": false,
     "input": [
      "Vecinos = []\n",
      "# Econtrar las particulas que aportan masa a cada cuadrado de la grilla\n",
      "for xg,yg in zip(X_g,Y_g):\n",
      "    Vecinos.append(vecinos(xg, yg, dx, dy, Puntos))"
     ],
     "language": "python",
     "metadata": {},
     "outputs": [],
     "prompt_number": 233
    },
    {
     "cell_type": "code",
     "collapsed": false,
     "input": [
      "Vecinos"
     ],
     "language": "python",
     "metadata": {},
     "outputs": [
      {
       "metadata": {},
       "output_type": "pyout",
       "prompt_number": 234,
       "text": [
        "[[2],\n",
        " [2],\n",
        " [0],\n",
        " [0],\n",
        " [],\n",
        " [2, 4],\n",
        " [2, 4],\n",
        " [0, 3, 9],\n",
        " [0, 1, 3, 9],\n",
        " [1],\n",
        " [4],\n",
        " [4],\n",
        " [3, 8, 9],\n",
        " [1, 3, 5, 8, 9],\n",
        " [1, 5],\n",
        " [],\n",
        " [],\n",
        " [6, 8],\n",
        " [5, 6, 8],\n",
        " [5],\n",
        " [],\n",
        " [],\n",
        " [6],\n",
        " [6, 7],\n",
        " [7]]"
       ]
      }
     ],
     "prompt_number": 234
    },
    {
     "cell_type": "code",
     "collapsed": false,
     "input": [
      "a = random_sample((3,2))\n",
      "print(a)\n",
      "a1,a2 = a[1,:]"
     ],
     "language": "python",
     "metadata": {},
     "outputs": [
      {
       "output_type": "stream",
       "stream": "stdout",
       "text": [
        "[[ 0.64834283  0.81153385]\n",
        " [ 0.1663939   0.05861753]\n",
        " [ 0.38104194  0.21949202]]\n"
       ]
      }
     ],
     "prompt_number": 248
    },
    {
     "cell_type": "code",
     "collapsed": false,
     "input": [],
     "language": "python",
     "metadata": {},
     "outputs": []
    }
   ],
   "metadata": {}
  }
 ]
}