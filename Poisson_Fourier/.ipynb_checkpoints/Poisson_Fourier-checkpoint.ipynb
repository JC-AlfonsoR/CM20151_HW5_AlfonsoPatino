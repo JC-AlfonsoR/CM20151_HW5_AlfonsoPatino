{
 "metadata": {
  "name": "",
  "signature": "sha256:3f41c5a65742085b0c591ef6c64983193040b6b7069d2842a5fa42141ed1f812"
 },
 "nbformat": 3,
 "nbformat_minor": 0,
 "worksheets": [
  {
   "cells": [
    {
     "cell_type": "code",
     "collapsed": false,
     "input": [
      "%pylab inline"
     ],
     "language": "python",
     "metadata": {},
     "outputs": [
      {
       "output_type": "stream",
       "stream": "stdout",
       "text": [
        "Populating the interactive namespace from numpy and matplotlib\n"
       ]
      }
     ],
     "prompt_number": 49
    },
    {
     "cell_type": "markdown",
     "metadata": {},
     "source": [
      "####Extraer Datos"
     ]
    },
    {
     "cell_type": "code",
     "collapsed": false,
     "input": [
      "x_p,y_p,z_p = genfromtxt('Serena-Venus.txt',unpack=True,usecols=(1,2,3)) # Extraer solo los datos necesarios\n",
      "l_x = max(x_p) - min(x_p)\n",
      "l_y = max(y_p) - min(y_p)\n",
      "l_z = max(z_p) - min(z_p)\n",
      "m = 1.0 # Masa de cada punto\n",
      "Puntos = array([x_p,y_p,z_p]).T"
     ],
     "language": "python",
     "metadata": {},
     "outputs": [],
     "prompt_number": 50
    },
    {
     "cell_type": "markdown",
     "metadata": {},
     "source": [
      "####Grilla"
     ]
    },
    {
     "cell_type": "code",
     "collapsed": false,
     "input": [
      "n_d = 10\n",
      "dx,dy,dz = l_x/n_d, l_y/n_d, l_z/n_d # Avance en x,y,z\n",
      "x = arange(min(x_p),max(x_p),dx) # Arreglos para generar grilla\n",
      "y = arange(min(y_p),max(y_p),dy)\n",
      "z = arange(min(z_p),max(z_p),dz)\n",
      "\n",
      "xx,yy,zz = meshgrid(x,y,z) # Mesh\n",
      "\n",
      "# Posiciones x,y de la grilla, cada punto representa la esquina inferior izquierda del cuadrado imaginario\n",
      "# En los arreglos X_g Y_g se guardan las posiciones de estos puntos en la grilla.\n",
      "# Graficamente, estos puntos se van llenando en filas de menor a mayor en x, y las filas se ordenan de menor a mayor en y\n",
      "x_g = xx.ravel() \n",
      "y_g = yy.ravel()\n",
      "z_g = zz.ravel() \n",
      "grilla = array([x_g,y_g,y_g]).T"
     ],
     "language": "python",
     "metadata": {},
     "outputs": [],
     "prompt_number": 52
    },
    {
     "cell_type": "markdown",
     "metadata": {},
     "source": [
      "###Encontrar Celdas"
     ]
    },
    {
     "cell_type": "code",
     "collapsed": false,
     "input": [
      "def superponen(x_g, x_p, dx):\n",
      "    \"\"\"Analiza si el dominio x_p +- dx/2 esta dentro del rango x_g + dx . Devuelve True o False\n",
      "    Se modela que el cuadrado de la grilla esta determinado por el punto en su esquina inferior izquierda, mientras que el\n",
      "    cuadro de la particula tiene su centro en la posicion del punto de la particula\n",
      "        Inputs\n",
      "    x_g       double    Posicion del punto en la grilla. El dominio de la grilla se define como x_g + dx\n",
      "    x_p       double    Posicion de la particula\n",
      "    dx        double    Longitud del dominio para la particula y para la grilla\n",
      "    \n",
      "        Outputs\n",
      "    output    boolean\n",
      "    \"\"\"\n",
      "    # Dos casos: \n",
      "    # x_p puede ser mayor que x_g\n",
      "    # x_p puede ser menor que x_g\n",
      "    \n",
      "    if x_p == x_g: # Misma posicion\n",
      "        return True\n",
      "    \n",
      "    elif x_p > x_g: # Particula a la derecha del punto en la grilla\n",
      "        if x_p - x_g <= 3.0/2.0*dx: # La maxima distancia entre xp y xg es 3/2 dx\n",
      "            return True\n",
      "            \n",
      "        else:\n",
      "            return False\n",
      "            \n",
      "    else: # Particula a la izquierda del punto en la grilla\n",
      "        if x_p + dx/2 -x_g >= 0:\n",
      "            return True\n",
      "            \n",
      "        else:\n",
      "            return False\n",
      "                \n",
      "def vecinos(x_g, y_g, z_g, dx, dy, dz, Puntos):\n",
      "    \"\"\"Encuentra las particulas cuyo dominio definido por xp+-dx/2 yp+-dy/2 esta incluido \n",
      "        en el dominio de la malla definido por x_g+dx y_g+dx\n",
      "\n",
      "        Inputs\n",
      "    x_g     double      Posicion x del punto en la grilla\n",
      "    y_g     double      Posicion y del punto en la grilla\n",
      "    z_g     double      Posicion z del punto en la grilla\n",
      "    dx,dy,dz   double      Dimensiones del cubo en la grilla\n",
      "    Puntos array nx3   Posiciones x,y,z de las n particulas muestreadas\n",
      "\n",
      "        Outputs\n",
      "    I       list [m x 1]  Lista con los 'm' indices que representan las particulas cuyo dominio \n",
      "                            esta contenido en el dominio del cuadro de grilla especificado\n",
      "\n",
      "        Uso\n",
      "    I = vecinos(x_g, y_g, dx, dy, Puntos)\n",
      "    \"\"\"\n",
      "    n = len(Puntos)\n",
      "    I = [] # Indices de las particulas vecinas al punto de la grilla\n",
      "    \n",
      "    for i in range(n):\n",
      "        xp,yp,zp = Puntos[i,:]\n",
      "        if (superponen(x_g,xp,dx) and superponen(y_g, yp, dy)) and superponen(z_g, zp, dz):\n",
      "            I.append(i)\n",
      "        \n",
      "        # No me parece esta adicion.\n",
      "        # Dependiendo de la forma en que esten guardados los datos, puede que salte algunos puntos de x que si\n",
      "        # se incluyan en la casilla.\n",
      "        #\n",
      "        \"\"\"\n",
      "        #Adicion para optimizar un poco la busqueda de puntos en una celda\n",
      "        if i > 0:\n",
      "        \txp_ant, yp_ant, zp_ant = Puntos[i-1,:] #Coordendas de punto anterior\n",
      "        \tif superponen(x_g,xp,dx) and not(x_g,xp_ant,dx): #Si el punto actual no se incluye en la celda y el anterior si, se interrumpe el loop porque como la coordenada x esta ordenada, los puntos que siguen tampoco estaran en la casilla\n",
      "        \t\tbreak\n",
      "        \"\"\"\n",
      "    return I"
     ],
     "language": "python",
     "metadata": {},
     "outputs": [],
     "prompt_number": 53
    },
    {
     "cell_type": "code",
     "collapsed": false,
     "input": [
      "Vecinos = []\n",
      "# Econtrar las particulas que aportan masa a cada cuadrado de la grilla\n",
      "for xg,yg,zg in grilla:\n",
      "    Vecinos.append(vecinos(xg, yg, zg, dx, dy, dz, Puntos))\n",
      "#Vecinos"
     ],
     "language": "python",
     "metadata": {},
     "outputs": [],
     "prompt_number": 54
    },
    {
     "cell_type": "markdown",
     "metadata": {},
     "source": [
      "###Calcular Densidad"
     ]
    },
    {
     "cell_type": "code",
     "collapsed": false,
     "input": [
      "def W_peso(x, Dx):\n",
      "    \"\"\" Funcion W(x) definida en el enunciado de la tarea\n",
      "    \"\"\"\n",
      "    if -Dx<x:\n",
      "        return(1+x/Dx)\n",
      "    elif x<Dx:\n",
      "        return(1-x/Dx)\n",
      "    else:\n",
      "        return(0)"
     ],
     "language": "python",
     "metadata": {},
     "outputs": [],
     "prompt_number": 56
    },
    {
     "cell_type": "code",
     "collapsed": false,
     "input": [
      "n_g = len(grilla) # Numero de elementos en la malla\n",
      "Rho = zeros((n_g,1))\n",
      "\n",
      "# Iteracion sobre cada elemento de la malla\n",
      "for i in range(n_g):\n",
      "    s = 0;    \n",
      "    # Iteracion en las particulas que afectan al cuadrado i del grid\n",
      "    for j in Vecinos[i]:\n",
      "        #j es la identidad de cada particula\n",
      "        s = s + (W_peso(x_g[i] - Puntos[j,0],dx)*\n",
      "                 W_peso(y_g[i] - Puntos[j,1],dy)*\n",
      "                 W_peso(z_g[i] - Puntos[j,2],dz))\n",
      "    Rho[i] = m/(dx*dy*dz)*s\n",
      "\n",
      "#R = reshape(Rho, newshape=shape(xx))\n",
      "print(shape(x_g),\"\\n\",shape(y_g),\"\\n\",shape(z_g),\"\\n\")\n",
      "print(shape(Rho))"
     ],
     "language": "python",
     "metadata": {},
     "outputs": [
      {
       "output_type": "stream",
       "stream": "stdout",
       "text": [
        "(1000,) \n",
        " (1000,) \n",
        " (1000,) \n",
        "\n",
        "(1000, 1)\n"
       ]
      }
     ],
     "prompt_number": 57
    },
    {
     "cell_type": "markdown",
     "metadata": {},
     "source": [
      "## Resumen\n",
      "Hasta aca el codigo hace lo siguiente:\n",
      "1. Importa los datos *x,y,z* del **Serena-Venus.txt** y los guarda en el array **Puntos**\n",
      "2. Define el arreglo **grilla** que representa la malla tridimensional para los datos de **Puntos**. La resolucion de la malla esta dada como el numero de puntos en cada direccion. Para haer calculos rapidos se usa **n = 5**, entonces **n_g $= 5^3$**\n",
      "3. Se definen las funciones **vecinos** y **superponen** que sirven para encontrar los puntos que afectan cada casilla de la grilla\n",
      "4. Con los puntos encontrados se procede a calcular la densidad para cada uno de los **n_g** puntos de la grilla. Esta densidad se guarda en el arreglo **Rho**\n",
      "\n",
      "**Ideas a Implementar**\n",
      "1. Usar objetos *float16* para acelerar calculos\n",
      "2. vectorizar funciones para acelerar calculos\n",
      "3. Optimizar funciones de busqueda con la idea de Carlos, pero verificar la secuencia en que se guardan las casillas en el arreglo **grilla**"
     ]
    },
    {
     "cell_type": "markdown",
     "metadata": {},
     "source": [
      "## Fourier\n",
      "La ecuacion original es $$\\nabla^2\\phi=\\rho$$\n",
      "Con la transformada de Fourier queda:\n",
      "$$\\hat{\\phi}=-\\hat{\\rho}$$\n",
      "Lo que se necesita es hacer la transformada de Fourier de $\\rho$ y multiplicarla por -1 para hallar $$\\hat{\\phi}$$\n",
      "\n"
     ]
    },
    {
     "cell_type": "code",
     "collapsed": false,
     "input": [
      "# Uso fftn de numpy porque entiendo mejor la documentacion\n",
      "\n",
      "R = reshape(Rho,newshape=(n_d,n_d,n_d))\n",
      "print(shape(Rho),shape(R))\n",
      "F_phi = -1.0 * fft.fftn(R)\n",
      "phi = real(fft.ifftn(F_phi))"
     ],
     "language": "python",
     "metadata": {},
     "outputs": [
      {
       "output_type": "stream",
       "stream": "stdout",
       "text": [
        "(1000, 1) (10, 10, 10)\n"
       ]
      }
     ],
     "prompt_number": 60
    },
    {
     "cell_type": "markdown",
     "metadata": {},
     "source": [
      "Para los calculos de la trasnformada de Fourier tengo claro que como $\\rho$ es *array* de 3 dimensiones, entonces $\\phi$ tambien es array de 3 dimensiones.\n",
      "\n",
      "No termino de entender como manejar el parametro *axes* de la funcion fft.fftn(). Cuando se modifica este parametro se modifica la forma de la salida. Consultar **fftpack.fftn?**"
     ]
    },
    {
     "cell_type": "markdown",
     "metadata": {},
     "source": [
      "## Derivadas\n",
      "La fuerza se calcula como la derivada del potencial $\\phi$. Como $\\phi$ es una funcion de 3 variables, se debe calcular la divergencia $$\\nabla\\cdot\\phi$$\n",
      "Entonces, en esta seccion la idea es calcular la divergencia de $\\phi$\n",
      "\n",
      "Sabiendo que la divergencia se define como:\n",
      "$$div(F)=\\nabla\\cdot F=\\frac{\\delta P}{\\delta x}+\\frac{\\delta Q}{\\delta y} + \\frac{\\delta R}{\\delta z}$$\n",
      "Para cada punto $i$ de la malla se deben calcular las tres derivadas parciales y sumarlas. La otra opcion es usar la funcion **numpy.gradient**"
     ]
    },
    {
     "cell_type": "code",
     "collapsed": false,
     "input": [
      "print(shape(phi))\n",
      "F_g = gradient(phi)\n",
      "F = sum(F_g,axis=0) # Fuerza calculada\n",
      "print(shape(F))"
     ],
     "language": "python",
     "metadata": {},
     "outputs": [
      {
       "output_type": "stream",
       "stream": "stdout",
       "text": [
        "(10, 10, 10)\n",
        "(10, 10, 10)\n"
       ]
      }
     ],
     "prompt_number": 75
    },
    {
     "cell_type": "markdown",
     "metadata": {},
     "source": [
      "La funcion **numpy.gradient** genera arreglos con la forma esperada de la funcion pero con la magnitud considerablemente mas baja. Esta prueba la hice para arreglos de 1D\n",
      "###<font color='red'>Revisar*</font>"
     ]
    },
    {
     "cell_type": "markdown",
     "metadata": {},
     "source": [
      "## Graficas"
     ]
    },
    {
     "cell_type": "code",
     "collapsed": false,
     "input": [
      "\"\"\"\n",
      "figure(figsize=(12,12))\n",
      "plot(Puntos[:,0], Puntos[:,1],'bo', alpha=0.2)\n",
      "plot(X_g, Y_g,'o',color='black',ms=3)\n",
      "pcolor(X,Y,Nm,alpha=0.4)\n",
      "colorbar()\n",
      "axis('equal')\n",
      "xlim(min(X_g)-dx, max(X_g)+dx)\n",
      "ylim(min(Y_g)-dy, max(Y_g)+dy)\n",
      "\n",
      "title('Densidad',size=20)\n",
      "xlabel('X')\n",
      "ylabel('Y')\n",
      "\"\"\""
     ],
     "language": "python",
     "metadata": {},
     "outputs": [
      {
       "metadata": {},
       "output_type": "pyout",
       "prompt_number": 95,
       "text": [
        "\"\\nfigure(figsize=(12,12))\\nplot(Puntos[:,0], Puntos[:,1],'bo', alpha=0.2)\\nplot(X_g, Y_g,'o',color='black',ms=3)\\npcolor(X,Y,Nm,alpha=0.4)\\ncolorbar()\\naxis('equal')\\nxlim(min(X_g)-dx, max(X_g)+dx)\\nylim(min(Y_g)-dy, max(Y_g)+dy)\\n\\ntitle('Densidad',size=20)\\nxlabel('X')\\nylabel('Y')\\n\""
       ]
      }
     ],
     "prompt_number": 95
    },
    {
     "cell_type": "markdown",
     "metadata": {},
     "source": [
      "En la grafica falta mostrar el color de la ultima fila y la ultima columna. Esto se debe al funcionamiento de la rutina pcolor\n",
      "\n",
      "En general, la grafica de la densidad es coherente con la grafica de la dispersion de los puntos: En las celdas de la malla donde hay mas puntos que aporten masa, se tiene un valor mas alto de densidad.\n",
      "\n",
      "Se corrige error en la funci\u00f3n superponen. Cambiar divisi\u00f3n de enteros por divisi\u00f3n de floats.\n",
      "\n",
      "Para 3D no se presenta grafica. El codigo ya ha sido verificado efectivamente para 2D"
     ]
    }
   ],
   "metadata": {}
  }
 ]
}