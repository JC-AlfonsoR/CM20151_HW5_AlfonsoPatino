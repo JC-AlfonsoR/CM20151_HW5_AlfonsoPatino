{
 "metadata": {
  "name": "",
  "signature": "sha256:341188a1fbc8b6902f8be70a5439909afbc57cd6d8977420daec331c1c712dc9"
 },
 "nbformat": 3,
 "nbformat_minor": 0,
 "worksheets": [
  {
   "cells": [
    {
     "cell_type": "markdown",
     "metadata": {},
     "source": [
      "#Ideas: Cuaderno auxiliar\n",
      "Usamos este cuaderno para probar algoritmos, con el fin de generalizar para implementarlos en el cuaderno principal"
     ]
    },
    {
     "cell_type": "code",
     "collapsed": false,
     "input": [
      "%pylab inline"
     ],
     "language": "python",
     "metadata": {},
     "outputs": [
      {
       "output_type": "stream",
       "stream": "stdout",
       "text": [
        "Populating the interactive namespace from numpy and matplotlib\n"
       ]
      }
     ],
     "prompt_number": 2
    },
    {
     "cell_type": "markdown",
     "metadata": {},
     "source": [
      "###Sparse Meshgrid"
     ]
    },
    {
     "cell_type": "code",
     "collapsed": false,
     "input": [
      "\"\"\"\n",
      "El codigo de esta celda demuestra que haciendo meshgrid con sparse=True\n",
      "y definiendo la funcion vectorizada -funcion(x,y,z)-, se pueden obtener arreglos 1D\n",
      "con las coordenadas de los datos.\n",
      "Hago la comparacion del metodo mencionado y el metodo de meshgrid sparse=False con X.ravel()\n",
      "para extraer los datos en 1D\n",
      "\n",
      "Este codigo representa una solcion a la 'maldicion de la dimensionalidad' al momento de generar una \n",
      "malla 3d de 1000 elementos en cada direccion.\n",
      "\n",
      "--> Se genera error de memoria cuando se intenta con arreglos de 1000 elementos\n",
      "\"\"\"\n",
      "x = linspace(1,2,3)\n",
      "y = linspace(10,12,3)\n",
      "z = linspace(20,22,3)\n",
      "\n",
      "X,Y,Z = meshgrid(x,y,z,sparse=True)\n",
      "def funcion(x,y,z):\n",
      "    return(x,y,z)\n",
      "f1 = vectorize(funcion)\n",
      "c = f1(X,Y,Z)\n",
      "x1,x2,x3 = ravel(c[0]),ravel(c[1]),ravel(c[2])\n",
      "print(x1,'\\n',x2,'\\n',x3,'\\n\\n')\n",
      "\n",
      "X,Y,Z = meshgrid(x,y,z)\n",
      "x = X.ravel()\n",
      "y = Y.ravel()\n",
      "z = Z.ravel()\n",
      "print(x,'\\n',y,'\\n',z)"
     ],
     "language": "python",
     "metadata": {},
     "outputs": [
      {
       "output_type": "stream",
       "stream": "stdout",
       "text": [
        "[ 1.   1.   1.   1.5  1.5  1.5  2.   2.   2.   1.   1.   1.   1.5  1.5  1.5\n",
        "  2.   2.   2.   1.   1.   1.   1.5  1.5  1.5  2.   2.   2. ] \n",
        " [ 10.  10.  10.  10.  10.  10.  10.  10.  10.  11.  11.  11.  11.  11.  11.\n",
        "  11.  11.  11.  12.  12.  12.  12.  12.  12.  12.  12.  12.] \n",
        " [ 20.  21.  22.  20.  21.  22.  20.  21.  22.  20.  21.  22.  20.  21.  22.\n",
        "  20.  21.  22.  20.  21.  22.  20.  21.  22.  20.  21.  22.] \n",
        "\n",
        "\n",
        "[ 1.   1.   1.   1.5  1.5  1.5  2.   2.   2.   1.   1.   1.   1.5  1.5  1.5\n",
        "  2.   2.   2.   1.   1.   1.   1.5  1.5  1.5  2.   2.   2. ] \n",
        " [ 10.  10.  10.  10.  10.  10.  10.  10.  10.  11.  11.  11.  11.  11.  11.\n",
        "  11.  11.  11.  12.  12.  12.  12.  12.  12.  12.  12.  12.] \n",
        " [ 20.  21.  22.  20.  21.  22.  20.  21.  22.  20.  21.  22.  20.  21.  22.\n",
        "  20.  21.  22.  20.  21.  22.  20.  21.  22.  20.  21.  22.]\n"
       ]
      }
     ],
     "prompt_number": 4
    },
    {
     "cell_type": "markdown",
     "metadata": {},
     "source": [
      "##Manipulando Big Data\n",
      "La idea es manipular arreglos que sobrepasan la memoria de la maquina.\n",
      "\n",
      "El primer intento coniste en dividir el arrreglo en arreglos mas peque\u00f1os que la memoria pueda manejar. Para almacenar el arreglo total se puede guardar en un csv"
     ]
    },
    {
     "cell_type": "code",
     "collapsed": false,
     "input": [
      "?random_sample"
     ],
     "language": "python",
     "metadata": {},
     "outputs": [],
     "prompt_number": 16
    },
    {
     "cell_type": "markdown",
     "metadata": {},
     "source": [
      "##Handling huge matrices in python\n",
      "[Example](http://www.philippsinger.info/?p=464)\n",
      "\n",
      "[pyTables tutorials](https://pytables.github.io/usersguide/tutorials.html)"
     ]
    },
    {
     "cell_type": "code",
     "collapsed": false,
     "input": [
      "from scipy.sparse import csr_matrix, rand\n",
      "import tables as tb"
     ],
     "language": "python",
     "metadata": {},
     "outputs": [],
     "prompt_number": 17
    },
    {
     "cell_type": "code",
     "collapsed": false,
     "input": [
      "a = rand(2000,2000,format='csr')\n",
      "b = a.T\n",
      "l,m,n = a.shape[0],a.shape[1],a.shape[1]\n",
      "\n",
      "f = tb.open_file('dot.h5','w')\n",
      "filters = tb.fi"
     ],
     "language": "python",
     "metadata": {},
     "outputs": [],
     "prompt_number": 20
    },
    {
     "cell_type": "code",
     "collapsed": false,
     "input": [
      "class Particle(IsDescription):\n",
      "    name = StringCol(16)\n",
      "    idnumber = int64Col()\n",
      "    ADCcount = "
     ],
     "language": "python",
     "metadata": {},
     "outputs": [
      {
       "metadata": {},
       "output_type": "pyout",
       "prompt_number": 25,
       "text": [
        "2000"
       ]
      }
     ],
     "prompt_number": 25
    },
    {
     "cell_type": "markdown",
     "metadata": {},
     "source": [
      "##Otra Opcion de Malla"
     ]
    },
    {
     "cell_type": "code",
     "collapsed": false,
     "input": [
      "'''\n",
      "funcion que encontre en internet http://stackoverflow.com/questions/12864445/numpy-meshgrid-points \n",
      "para probar si servia para arreglos de 1000 elementos. No funciona y sigue sacando un error\n",
      "'''\n",
      "def meshgrid2(*arrs):\n",
      "    arrs = tuple(reversed(arrs))\n",
      "    lens = map(len, arrs)\n",
      "    dim = len(arrs)\n",
      "    sz = 1\n",
      "    for s in lens:\n",
      "        sz *= s\n",
      "        ans = []\n",
      "        for i, arr in enumerate(arrs):\n",
      "            slc = [1]*dim\n",
      "            slc[i] = lens[i]\n",
      "            arr2 = asarray(arr).reshape(slc)\n",
      "            for j, sz in enumerate(lens):\n",
      "                if j != i:\n",
      "                    arr2 = arr2.repeat(sz, axis=j)\n",
      "            ans.append(arr2)\n",
      "        return tuple(ans)"
     ],
     "language": "python",
     "metadata": {},
     "outputs": []
    },
    {
     "cell_type": "code",
     "collapsed": false,
     "input": [
      "10**3"
     ],
     "language": "python",
     "metadata": {},
     "outputs": [
      {
       "metadata": {},
       "output_type": "pyout",
       "prompt_number": 33,
       "text": [
        "1000"
       ]
      }
     ],
     "prompt_number": 33
    },
    {
     "cell_type": "markdown",
     "metadata": {},
     "source": [
      "##Fourier 3D"
     ]
    },
    {
     "cell_type": "code",
     "collapsed": false,
     "input": [
      "a = random_sample((3,3,3))\n",
      "fft.fftn(a)"
     ],
     "language": "python",
     "metadata": {},
     "outputs": [
      {
       "metadata": {},
       "output_type": "pyout",
       "prompt_number": 45,
       "text": [
        "array([[[ 12.61509684+0.j        ,   0.87103486+0.62099189j,\n",
        "           0.87103486-0.62099189j],\n",
        "        [  0.53392349-1.42265773j,   2.38115239+0.57076298j,\n",
        "           0.71110176-0.89829222j],\n",
        "        [  0.53392349+1.42265773j,   0.71110176+0.89829222j,\n",
        "           2.38115239-0.57076298j]],\n",
        "\n",
        "       [[  0.53885348+0.56585817j,   0.60722236+0.38810309j,\n",
        "           0.78506314-1.73633108j],\n",
        "        [  1.41166097+0.99868366j,  -1.37593348-0.32947311j,\n",
        "          -0.38711778+0.53867196j],\n",
        "        [  0.06915200-0.76419534j,  -0.63410949-0.56902345j,\n",
        "          -0.35805109+0.50767959j]],\n",
        "\n",
        "       [[  0.53885348-0.56585817j,   0.78506314+1.73633108j,\n",
        "           0.60722236-0.38810309j],\n",
        "        [  0.06915200+0.76419534j,  -0.35805109-0.50767959j,\n",
        "          -0.63410949+0.56902345j],\n",
        "        [  1.41166097-0.99868366j,  -0.38711778-0.53867196j,\n",
        "          -1.37593348+0.32947311j]]])"
       ]
      }
     ],
     "prompt_number": 45
    },
    {
     "cell_type": "code",
     "collapsed": false,
     "input": [
      "print(shape(a))"
     ],
     "language": "python",
     "metadata": {},
     "outputs": [
      {
       "output_type": "stream",
       "stream": "stdout",
       "text": [
        "(3, 3, 3)\n"
       ]
      }
     ],
     "prompt_number": 46
    },
    {
     "cell_type": "markdown",
     "metadata": {},
     "source": [
      "## Gradiente"
     ]
    },
    {
     "cell_type": "code",
     "collapsed": false,
     "input": [
      "def f(x):\n",
      "    return x**2\n",
      "def df(x):\n",
      "    return 2*x"
     ],
     "language": "python",
     "metadata": {},
     "outputs": [],
     "prompt_number": 48
    },
    {
     "cell_type": "code",
     "collapsed": false,
     "input": [
      "x = linspace(0,2,100)\n",
      "f_x = f(x)\n",
      "df_true = df(x)\n",
      "g = numpy.gradient(f_x)#*len(f_x)/2"
     ],
     "language": "python",
     "metadata": {},
     "outputs": [],
     "prompt_number": 66
    },
    {
     "cell_type": "code",
     "collapsed": false,
     "input": [
      "plot(x,f_x)\n",
      "plot(x,df_true,'.g')\n",
      "plot(x,g,'r')"
     ],
     "language": "python",
     "metadata": {},
     "outputs": [
      {
       "metadata": {},
       "output_type": "pyout",
       "prompt_number": 67,
       "text": [
        "[<matplotlib.lines.Line2D at 0x8c46c18>]"
       ]
      },
      {
       "metadata": {},
       "output_type": "display_data",
       "png": "[encoded data removed]",
       "text": [
        "<matplotlib.figure.Figure at 0x8bf85c0>"
       ]
      }
     ],
     "prompt_number": 67
    },
    {
     "cell_type": "code",
     "collapsed": false,
     "input": [],
     "language": "python",
     "metadata": {},
     "outputs": []
    }
   ],
   "metadata": {}
  }
 ]
}