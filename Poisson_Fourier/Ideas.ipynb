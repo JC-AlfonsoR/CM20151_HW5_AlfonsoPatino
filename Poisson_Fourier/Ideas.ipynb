{
 "metadata": {
  "name": "",
  "signature": "sha256:a711ca05443838f90cb6acb8541040c1ec62846136b14d7140e452d8bff301b4"
 },
 "nbformat": 3,
 "nbformat_minor": 0,
 "worksheets": [
  {
   "cells": [
    {
     "cell_type": "markdown",
     "metadata": {},
     "source": [
      "#Ideas: Cuaderno auxiliar\n",
      "Usamos este cuaderno para probar algoritmos, con el fin de generalizar para implementarlos en el cuaderno principal"
     ]
    },
    {
     "cell_type": "code",
     "collapsed": false,
     "input": [
      "%pylab inline\n",
      "from subprocess import call\n",
      "!dir"
     ],
     "language": "python",
     "metadata": {},
     "outputs": [
      {
       "output_type": "stream",
       "stream": "stdout",
       "text": [
        "Populating the interactive namespace from numpy and matplotlib\n"
       ]
      },
      {
       "output_type": "stream",
       "stream": "stdout",
       "text": [
        " El volumen de la unidad C es TI105864W0B\n",
        " El n\u00a3mero de serie del volumen es: 20E7-A326\n",
        "\n",
        " Directorio de C:\\Users\\J. Camilo\\Documents\\GitHub\\CM20151_HW5_AlfonsoPatino\\Poisson_Fourier\n",
        "\n",
        "06/04/2015  09:46 p.m.    <DIR>          .\n",
        "06/04/2015  09:46 p.m.    <DIR>          ..\n",
        "06/04/2015  03:40 p.m.    <DIR>          .ipynb_checkpoints\n",
        "06/04/2015  09:19 p.m.                72 B_data.csv\n",
        "06/04/2015  10:13 p.m.            31,162 Ideas.ipynb\n",
        "06/04/2015  08:48 p.m.            14,845 Poisson_Fourier.ipynb\n",
        "03/04/2015  10:12 a.m.             4,807 poisson_fourier.py\n",
        "24/03/2015  08:23 p.m.           802,077 Serena-Venus.txt\n",
        "               5 archivos        852,963 bytes\n",
        "               3 dirs  66,178,981,888 bytes libres\n"
       ]
      }
     ],
     "prompt_number": 2
    },
    {
     "cell_type": "markdown",
     "metadata": {},
     "source": [
      "###Sparse Meshgrid"
     ]
    },
    {
     "cell_type": "code",
     "collapsed": false,
     "input": [
      "\"\"\"\n",
      "El codigo de esta celda demuestra que haciendo meshgrid con sparse=True\n",
      "y definiendo la funcion vectorizada -funcion(x,y,z)-, se pueden obtener arreglos 1D\n",
      "con las coordenadas de los datos.\n",
      "Hago la comparacion del metodo mencionado y el metodo de meshgrid sparse=False con X.ravel()\n",
      "para extraer los datos en 1D\n",
      "\n",
      "Este codigo representa una solcion a la 'maldicion de la dimensionalidad' al momento de generar una \n",
      "malla 3d de 1000 elementos en cada direccion.\n",
      "\n",
      "--> Se genera error de memoria cuando se intenta con arreglos de 1000 elementos\n",
      "\"\"\"\n",
      "x = linspace(1,2,3)\n",
      "y = linspace(10,12,3)\n",
      "z = linspace(20,22,3)\n",
      "\n",
      "X,Y,Z = meshgrid(x,y,z,sparse=True)\n",
      "def funcion(x,y,z):\n",
      "    return(x,y,z)\n",
      "f1 = vectorize(funcion)\n",
      "c = f1(X,Y,Z)\n",
      "x1,x2,x3 = ravel(c[0]),ravel(c[1]),ravel(c[2])\n",
      "print(x1,'\\n',x2,'\\n',x3,'\\n\\n')\n",
      "\n",
      "X,Y,Z = meshgrid(x,y,z)\n",
      "x = X.ravel()\n",
      "y = Y.ravel()\n",
      "z = Z.ravel()\n",
      "print(x,'\\n',y,'\\n',z)"
     ],
     "language": "python",
     "metadata": {},
     "outputs": [
      {
       "output_type": "stream",
       "stream": "stdout",
       "text": [
        "[ 1.   1.   1.   1.5  1.5  1.5  2.   2.   2.   1.   1.   1.   1.5  1.5  1.5\n",
        "  2.   2.   2.   1.   1.   1.   1.5  1.5  1.5  2.   2.   2. ] \n",
        " [ 10.  10.  10.  10.  10.  10.  10.  10.  10.  11.  11.  11.  11.  11.  11.\n",
        "  11.  11.  11.  12.  12.  12.  12.  12.  12.  12.  12.  12.] \n",
        " [ 20.  21.  22.  20.  21.  22.  20.  21.  22.  20.  21.  22.  20.  21.  22.\n",
        "  20.  21.  22.  20.  21.  22.  20.  21.  22.  20.  21.  22.] \n",
        "\n",
        "\n",
        "[ 1.   1.   1.   1.5  1.5  1.5  2.   2.   2.   1.   1.   1.   1.5  1.5  1.5\n",
        "  2.   2.   2.   1.   1.   1.   1.5  1.5  1.5  2.   2.   2. ] \n",
        " [ 10.  10.  10.  10.  10.  10.  10.  10.  10.  11.  11.  11.  11.  11.  11.\n",
        "  11.  11.  11.  12.  12.  12.  12.  12.  12.  12.  12.  12.] \n",
        " [ 20.  21.  22.  20.  21.  22.  20.  21.  22.  20.  21.  22.  20.  21.  22.\n",
        "  20.  21.  22.  20.  21.  22.  20.  21.  22.  20.  21.  22.]\n"
       ]
      }
     ],
     "prompt_number": 4
    },
    {
     "cell_type": "markdown",
     "metadata": {},
     "source": [
      "##Manipulando Big Data\n",
      "La idea es manipular arreglos que sobrepasan la memoria de la maquina.\n",
      "\n",
      "El primer intento coniste en dividir el arrreglo en arreglos mas peque\u00f1os que la memoria pueda manejar. Se prueban dos opciones:\n",
      "1. Guardar los datos en _csv's_\n",
      "2. guardar los datos en _pytables_"
     ]
    },
    {
     "cell_type": "markdown",
     "metadata": {},
     "source": [
      "###csv's usando _savetext()_\n",
      "La idea es usar csvs para guardar los datos"
     ]
    },
    {
     "cell_type": "code",
     "collapsed": false,
     "input": [
      "nn = 1e5\n",
      "n = 10\n",
      "for i in range(n):\n",
      "    r = random_sample((nn/n,1))\n",
      "    fname = \"Bg_data_\" + str(i) + \".csv\"\n",
      "    savetxt(fname,r,delimiter=\",\")"
     ],
     "language": "python",
     "metadata": {},
     "outputs": [],
     "prompt_number": 48
    },
    {
     "cell_type": "markdown",
     "metadata": {},
     "source": [
      "##Handling huge matrices in python\n",
      "[Example](http://www.philippsinger.info/?p=464)\n",
      "\n",
      "[pyTables tutorials](https://pytables.github.io/usersguide/tutorials.html)"
     ]
    },
    {
     "cell_type": "code",
     "collapsed": false,
     "input": [
      "from scipy.sparse import csr_matrix, rand\n",
      "import tables as tb"
     ],
     "language": "python",
     "metadata": {},
     "outputs": [],
     "prompt_number": 17
    },
    {
     "cell_type": "code",
     "collapsed": false,
     "input": [
      "a = rand(2000,2000,format='csr')\n",
      "b = a.T\n",
      "l,m,n = a.shape[0],a.shape[1],a.shape[1]\n",
      "\n",
      "f = tb.open_file('dot.h5','w')\n",
      "filters = tb.fi"
     ],
     "language": "python",
     "metadata": {},
     "outputs": [],
     "prompt_number": 20
    },
    {
     "cell_type": "code",
     "collapsed": false,
     "input": [
      "class Particle(IsDescription):\n",
      "    name = StringCol(16)\n",
      "    idnumber = int64Col()\n",
      "    ADCcount = "
     ],
     "language": "python",
     "metadata": {},
     "outputs": [
      {
       "metadata": {},
       "output_type": "pyout",
       "prompt_number": 25,
       "text": [
        "2000"
       ]
      }
     ],
     "prompt_number": 25
    },
    {
     "cell_type": "markdown",
     "metadata": {},
     "source": [
      "##Otra Opcion de Malla"
     ]
    },
    {
     "cell_type": "code",
     "collapsed": false,
     "input": [
      "'''\n",
      "funcion que encontre en internet http://stackoverflow.com/questions/12864445/numpy-meshgrid-points \n",
      "para probar si servia para arreglos de 1000 elementos. No funciona y sigue sacando un error\n",
      "'''\n",
      "def meshgrid2(*arrs):\n",
      "    arrs = tuple(reversed(arrs))\n",
      "    lens = map(len, arrs)\n",
      "    dim = len(arrs)\n",
      "    sz = 1\n",
      "    for s in lens:\n",
      "        sz *= s\n",
      "        ans = []\n",
      "        for i, arr in enumerate(arrs):\n",
      "            slc = [1]*dim\n",
      "            slc[i] = lens[i]\n",
      "            arr2 = asarray(arr).reshape(slc)\n",
      "            for j, sz in enumerate(lens):\n",
      "                if j != i:\n",
      "                    arr2 = arr2.repeat(sz, axis=j)\n",
      "            ans.append(arr2)\n",
      "        return tuple(ans)"
     ],
     "language": "python",
     "metadata": {},
     "outputs": []
    },
    {
     "cell_type": "code",
     "collapsed": false,
     "input": [
      "10**3"
     ],
     "language": "python",
     "metadata": {},
     "outputs": [
      {
       "metadata": {},
       "output_type": "pyout",
       "prompt_number": 33,
       "text": [
        "1000"
       ]
      }
     ],
     "prompt_number": 33
    },
    {
     "cell_type": "markdown",
     "metadata": {},
     "source": [
      "##Fourier 3D"
     ]
    },
    {
     "cell_type": "code",
     "collapsed": false,
     "input": [
      "a = random_sample((3,3,3))\n",
      "fft.fftn(a)"
     ],
     "language": "python",
     "metadata": {},
     "outputs": [
      {
       "metadata": {},
       "output_type": "pyout",
       "prompt_number": 45,
       "text": [
        "array([[[ 12.61509684+0.j        ,   0.87103486+0.62099189j,\n",
        "           0.87103486-0.62099189j],\n",
        "        [  0.53392349-1.42265773j,   2.38115239+0.57076298j,\n",
        "           0.71110176-0.89829222j],\n",
        "        [  0.53392349+1.42265773j,   0.71110176+0.89829222j,\n",
        "           2.38115239-0.57076298j]],\n",
        "\n",
        "       [[  0.53885348+0.56585817j,   0.60722236+0.38810309j,\n",
        "           0.78506314-1.73633108j],\n",
        "        [  1.41166097+0.99868366j,  -1.37593348-0.32947311j,\n",
        "          -0.38711778+0.53867196j],\n",
        "        [  0.06915200-0.76419534j,  -0.63410949-0.56902345j,\n",
        "          -0.35805109+0.50767959j]],\n",
        "\n",
        "       [[  0.53885348-0.56585817j,   0.78506314+1.73633108j,\n",
        "           0.60722236-0.38810309j],\n",
        "        [  0.06915200+0.76419534j,  -0.35805109-0.50767959j,\n",
        "          -0.63410949+0.56902345j],\n",
        "        [  1.41166097-0.99868366j,  -0.38711778-0.53867196j,\n",
        "          -1.37593348+0.32947311j]]])"
       ]
      }
     ],
     "prompt_number": 45
    },
    {
     "cell_type": "code",
     "collapsed": false,
     "input": [
      "print(shape(a))"
     ],
     "language": "python",
     "metadata": {},
     "outputs": [
      {
       "output_type": "stream",
       "stream": "stdout",
       "text": [
        "(3, 3, 3)\n"
       ]
      }
     ],
     "prompt_number": 46
    },
    {
     "cell_type": "markdown",
     "metadata": {},
     "source": [
      "## Gradiente"
     ]
    },
    {
     "cell_type": "code",
     "collapsed": false,
     "input": [
      "def f(x):\n",
      "    return x**2\n",
      "def df(x):\n",
      "    return 2*x"
     ],
     "language": "python",
     "metadata": {},
     "outputs": [],
     "prompt_number": 3
    },
    {
     "cell_type": "code",
     "collapsed": false,
     "input": [
      "x = linspace(0,2,100)\n",
      "f_x = f(x)\n",
      "df_true = df(x)\n",
      "g = gradient(f_x)#*len(f_x)/2\n",
      "print(shape(x),shape(f_x),shape(df_true),shape(g))"
     ],
     "language": "python",
     "metadata": {},
     "outputs": [
      {
       "output_type": "stream",
       "stream": "stdout",
       "text": [
        "(100,) (100,) (100,) (100,)\n"
       ]
      }
     ],
     "prompt_number": 9
    },
    {
     "cell_type": "code",
     "collapsed": false,
     "input": [
      "plot(x,f_x)\n",
      "plot(x,df_true,'.g')\n",
      "plot(x,g,'r')"
     ],
     "language": "python",
     "metadata": {},
     "outputs": [
      {
       "metadata": {},
       "output_type": "pyout",
       "prompt_number": 10,
       "text": [
        "[<matplotlib.lines.Line2D at 0x5a8dcf8>]"
       ]
      },
      {
       "metadata": {},
       "output_type": "display_data",
       "png": "[encoded data removed]",
       "text": [
        "<matplotlib.figure.Figure at 0x59f0a58>"
       ]
      }
     ],
     "prompt_number": 10
    },
    {
     "cell_type": "markdown",
     "metadata": {},
     "source": [
      "\n",
      "# Poisson_Fourier - Huge Version"
     ]
    },
    {
     "cell_type": "code",
     "collapsed": false,
     "input": [
      "%pylab inline"
     ],
     "language": "python",
     "metadata": {},
     "outputs": [
      {
       "output_type": "stream",
       "stream": "stdout",
       "text": [
        "Populating the interactive namespace from numpy and matplotlib\n"
       ]
      }
     ],
     "prompt_number": 5
    },
    {
     "cell_type": "code",
     "collapsed": false,
     "input": [
      "x_p,y_p,z_p = genfromtxt('Serena-Venus.txt',unpack=True,usecols=(1,2,3)) # Extraer solo los datos necesarios\n",
      "l_x = max(x_p) - min(x_p)\n",
      "l_y = max(y_p) - min(y_p)\n",
      "l_z = max(z_p) - min(z_p)\n",
      "m = 1.0 # Masa de cada punto\n",
      "Puntos = array([x_p,y_p,z_p]).T"
     ],
     "language": "python",
     "metadata": {},
     "outputs": [],
     "prompt_number": 7
    },
    {
     "cell_type": "code",
     "collapsed": false,
     "input": [
      "n_d = 500\n",
      "n = 100\n",
      "\n",
      "dx,dy,dz = l_x/n_d, l_y/n_d, l_z/n_d # Avance en x,y,z\n",
      "x = arange(min(x_p),max(x_p),dx) # Arreglos para generar grilla\n",
      "y = arange(min(y_p),max(y_p),dy)\n",
      "z = arange(min(z_p),max(z_p),dz)\n",
      "folder = './Data/'\n",
      "for i in range(n):\n",
      "    xi = x[i*10:i*10+10]\n",
      "    xx,yy,zz = meshgrid(xi,y,z) # Mesh\n",
      "    x_g = xx.ravel() \n",
      "    y_g = yy.ravel()\n",
      "    z_g = zz.ravel() \n",
      "    grilla = array([x_g,y_g,z_g]).T\n",
      "    fname = folder + 'grilla_' + str(i) + '.csv'\n",
      "    savetxt(fname,grilla,delimiter=\",\")\n",
      "    print(fname)\n",
      "\n",
      "\"\"\"\n",
      "n_d = 1e9\n",
      "dx,dy,dz = l_x/n_d, l_y/n_d, l_z/n_d # Avance en x,y,z\n",
      "x = arange(min(x_p),max(x_p),dx) # Arreglos para generar grilla\n",
      "y = arange(min(y_p),max(y_p),dy)\n",
      "z = arange(min(z_p),max(z_p),dz)\n",
      "\n",
      "xx,yy,zz = meshgrid(x,y,z) # Mesh\n",
      "\n",
      "# Posiciones x,y de la grilla, cada punto representa la esquina inferior izquierda del cuadrado imaginario\n",
      "# En los arreglos X_g Y_g se guardan las posiciones de estos puntos en la grilla.\n",
      "# Graficamente, estos puntos se van llenando en filas de menor a mayor en x, y las filas se ordenan de menor a mayor en y\n",
      "x_g = xx.ravel() \n",
      "y_g = yy.ravel()\n",
      "z_g = zz.ravel() \n",
      "grilla = array([x_g,y_g,y_g]).T\n",
      "\"\"\""
     ],
     "language": "python",
     "metadata": {},
     "outputs": [
      {
       "output_type": "stream",
       "stream": "stdout",
       "text": [
        "./Data/grilla_0.csv\n",
        "./Data/grilla_1.csv"
       ]
      },
      {
       "output_type": "stream",
       "stream": "stdout",
       "text": [
        "\n",
        "./Data/grilla_2.csv"
       ]
      },
      {
       "output_type": "stream",
       "stream": "stdout",
       "text": [
        "\n"
       ]
      },
      {
       "ename": "KeyboardInterrupt",
       "evalue": "",
       "output_type": "pyerr",
       "traceback": [
        "\u001b[1;31m---------------------------------------------------------------------------\u001b[0m\n\u001b[1;31mKeyboardInterrupt\u001b[0m                         Traceback (most recent call last)",
        "\u001b[1;32m<ipython-input-22-21125a51bf8d>\u001b[0m in \u001b[0;36m<module>\u001b[1;34m()\u001b[0m\n\u001b[0;32m     15\u001b[0m     \u001b[0mgrilla\u001b[0m \u001b[1;33m=\u001b[0m \u001b[0marray\u001b[0m\u001b[1;33m(\u001b[0m\u001b[1;33m[\u001b[0m\u001b[0mx_g\u001b[0m\u001b[1;33m,\u001b[0m\u001b[0my_g\u001b[0m\u001b[1;33m,\u001b[0m\u001b[0mz_g\u001b[0m\u001b[1;33m]\u001b[0m\u001b[1;33m)\u001b[0m\u001b[1;33m.\u001b[0m\u001b[0mT\u001b[0m\u001b[1;33m\u001b[0m\u001b[0m\n\u001b[0;32m     16\u001b[0m     \u001b[0mfname\u001b[0m \u001b[1;33m=\u001b[0m \u001b[0mfolder\u001b[0m \u001b[1;33m+\u001b[0m \u001b[1;34m'grilla_'\u001b[0m \u001b[1;33m+\u001b[0m \u001b[0mstr\u001b[0m\u001b[1;33m(\u001b[0m\u001b[0mi\u001b[0m\u001b[1;33m)\u001b[0m \u001b[1;33m+\u001b[0m \u001b[1;34m'.csv'\u001b[0m\u001b[1;33m\u001b[0m\u001b[0m\n\u001b[1;32m---> 17\u001b[1;33m     \u001b[0msavetxt\u001b[0m\u001b[1;33m(\u001b[0m\u001b[0mfname\u001b[0m\u001b[1;33m,\u001b[0m\u001b[0mgrilla\u001b[0m\u001b[1;33m,\u001b[0m\u001b[0mdelimiter\u001b[0m\u001b[1;33m=\u001b[0m\u001b[1;34m\",\"\u001b[0m\u001b[1;33m)\u001b[0m\u001b[1;33m\u001b[0m\u001b[0m\n\u001b[0m\u001b[0;32m     18\u001b[0m     \u001b[0mprint\u001b[0m\u001b[1;33m(\u001b[0m\u001b[0mfname\u001b[0m\u001b[1;33m)\u001b[0m\u001b[1;33m\u001b[0m\u001b[0m\n\u001b[0;32m     19\u001b[0m \u001b[1;33m\u001b[0m\u001b[0m\n",
        "\u001b[1;32mC:\\Users\\J. Camilo\\Anaconda3\\lib\\site-packages\\numpy\\lib\\npyio.py\u001b[0m in \u001b[0;36msavetxt\u001b[1;34m(fname, X, fmt, delimiter, newline, header, footer, comments)\u001b[0m\n\u001b[0;32m   1085\u001b[0m         \u001b[1;32melse\u001b[0m\u001b[1;33m:\u001b[0m\u001b[1;33m\u001b[0m\u001b[0m\n\u001b[0;32m   1086\u001b[0m             \u001b[1;32mfor\u001b[0m \u001b[0mrow\u001b[0m \u001b[1;32min\u001b[0m \u001b[0mX\u001b[0m\u001b[1;33m:\u001b[0m\u001b[1;33m\u001b[0m\u001b[0m\n\u001b[1;32m-> 1087\u001b[1;33m                 \u001b[0mfh\u001b[0m\u001b[1;33m.\u001b[0m\u001b[0mwrite\u001b[0m\u001b[1;33m(\u001b[0m\u001b[0masbytes\u001b[0m\u001b[1;33m(\u001b[0m\u001b[0mformat\u001b[0m \u001b[1;33m%\u001b[0m \u001b[0mtuple\u001b[0m\u001b[1;33m(\u001b[0m\u001b[0mrow\u001b[0m\u001b[1;33m)\u001b[0m \u001b[1;33m+\u001b[0m \u001b[0mnewline\u001b[0m\u001b[1;33m)\u001b[0m\u001b[1;33m)\u001b[0m\u001b[1;33m\u001b[0m\u001b[0m\n\u001b[0m\u001b[0;32m   1088\u001b[0m         \u001b[1;32mif\u001b[0m \u001b[0mlen\u001b[0m\u001b[1;33m(\u001b[0m\u001b[0mfooter\u001b[0m\u001b[1;33m)\u001b[0m \u001b[1;33m>\u001b[0m \u001b[1;36m0\u001b[0m\u001b[1;33m:\u001b[0m\u001b[1;33m\u001b[0m\u001b[0m\n\u001b[0;32m   1089\u001b[0m             \u001b[0mfooter\u001b[0m \u001b[1;33m=\u001b[0m \u001b[0mfooter\u001b[0m\u001b[1;33m.\u001b[0m\u001b[0mreplace\u001b[0m\u001b[1;33m(\u001b[0m\u001b[1;34m'\\n'\u001b[0m\u001b[1;33m,\u001b[0m \u001b[1;34m'\\n'\u001b[0m \u001b[1;33m+\u001b[0m \u001b[0mcomments\u001b[0m\u001b[1;33m)\u001b[0m\u001b[1;33m\u001b[0m\u001b[0m\n",
        "\u001b[1;31mKeyboardInterrupt\u001b[0m: "
       ]
      }
     ],
     "prompt_number": 22
    },
    {
     "cell_type": "code",
     "collapsed": false,
     "input": [
      "a = zeros((500**3,3))\n",
      "shape(a)"
     ],
     "language": "python",
     "metadata": {},
     "outputs": [
      {
       "metadata": {},
       "output_type": "pyout",
       "prompt_number": 24,
       "text": [
        "(125000000, 3)"
       ]
      }
     ],
     "prompt_number": 24
    },
    {
     "cell_type": "markdown",
     "metadata": {},
     "source": [
      "## Baja precision\n",
      "Para hacer calculos con menos Ram se pueden utilizar floats16, que pesan la cuarta parte de los que pesa un float64. Como se muestra en el ejemplo de abajo, la precision baja considerablemente"
     ]
    },
    {
     "cell_type": "code",
     "collapsed": false,
     "input": [
      "a = random_sample((5,5))\n",
      "print(type(a),type(a[0,0]))\n",
      "print(a)\n",
      "a = numpy.float16(a)\n",
      "print(type(a),type(a[0,0]))\n",
      "print(a)"
     ],
     "language": "python",
     "metadata": {},
     "outputs": [
      {
       "output_type": "stream",
       "stream": "stdout",
       "text": [
        "<class 'numpy.ndarray'> <class 'numpy.float64'>\n",
        "[[ 0.22407504  0.08808109  0.85932625  0.81139204  0.27686687]\n",
        " [ 0.020705    0.81635013  0.03293119  0.81564707  0.97498399]\n",
        " [ 0.79230928  0.91872153  0.37320205  0.78325123  0.63564402]\n",
        " [ 0.43377296  0.07268526  0.52146435  0.02890638  0.0545096 ]\n",
        " [ 0.30555164  0.9445157   0.38665729  0.11252606  0.42257652]]"
       ]
      },
      {
       "output_type": "stream",
       "stream": "stdout",
       "text": [
        "\n",
        "<class 'numpy.ndarray'> <class 'numpy.float16'>\n",
        "[[ 0.22412109  0.08807373  0.859375    0.81152344  0.27685547]\n",
        " [ 0.02070618  0.81640625  0.03292847  0.81542969  0.97509766]\n",
        " [ 0.79248047  0.91894531  0.37329102  0.78320312  0.63574219]\n",
        " [ 0.43383789  0.07269287  0.52148438  0.02890015  0.05450439]\n",
        " [ 0.30566406  0.94433594  0.38671875  0.11254883  0.42260742]]\n"
       ]
      }
     ],
     "prompt_number": 20
    },
    {
     "cell_type": "code",
     "collapsed": false,
     "input": [],
     "language": "python",
     "metadata": {},
     "outputs": []
    }
   ],
   "metadata": {}
  }
 ]
}