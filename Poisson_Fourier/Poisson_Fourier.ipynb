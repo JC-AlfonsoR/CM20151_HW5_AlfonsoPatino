{
 "metadata": {
  "name": "",
  "signature": "sha256:00e019609ddc5c1893db3f80cab5a1fda651a72659d1ff12989ac51fb560f2d2"
 },
 "nbformat": 3,
 "nbformat_minor": 0,
 "worksheets": [
  {
   "cells": [
    {
     "cell_type": "code",
     "collapsed": false,
     "input": [
      "%pylab inline"
     ],
     "language": "python",
     "metadata": {},
     "outputs": [
      {
       "output_type": "stream",
       "stream": "stdout",
       "text": [
        "Populating the interactive namespace from numpy and matplotlib\n"
       ]
      }
     ],
     "prompt_number": 28
    },
    {
     "cell_type": "markdown",
     "metadata": {},
     "source": [
      "###Definir puntos Aleatorios"
     ]
    },
    {
     "cell_type": "code",
     "collapsed": false,
     "input": [
      "l = 2.0\n",
      "m = 1.0 #Masa de cada punto\n",
      "# Puntos aleatorios en x y\n",
      "Puntos = l*random_sample((10,3))"
     ],
     "language": "python",
     "metadata": {},
     "outputs": [],
     "prompt_number": 29
    },
    {
     "cell_type": "markdown",
     "metadata": {},
     "source": [
      "###Definir Grilla"
     ]
    },
    {
     "cell_type": "code",
     "collapsed": false,
     "input": [
      "dx,dy,dz = l/5, l/5, l/5\n",
      "x = arange(0,l,dx)\n",
      "y = arange(0,l,dy)\n",
      "z = arange(0,l,dz)\n",
      "X,Y,Z = meshgrid(x,y,z)\n",
      "# Posiciones x,y de la grilla, cada punto representa la esquina inferior izquierda del cuadrado imaginario\n",
      "# En los arreglos X_g Y_g se guardan las posiciones de estos puntos en la grilla.\n",
      "# Graficamente, estos puntos se van llenando en filas de menor a mayor en x, y las filas se ordenan de menor a mayor en y\n",
      "X_g = X.ravel() \n",
      "Y_g = Y.ravel()\n",
      "Z_g = Z.ravel()"
     ],
     "language": "python",
     "metadata": {},
     "outputs": [],
     "prompt_number": 30
    },
    {
     "cell_type": "code",
     "collapsed": false,
     "input": [
      "def superponen(x_g, x_p, dx):\n",
      "    \"\"\"Analiza si el dominio x_p +- dx/2 esta dentro del rango x_g + dx . Devuelve True o False\n",
      "    Se modela que el cuadrado de la grilla esta determinado por el punto en su esquina inferior izquierda, mientras que el\n",
      "    cuadro de la particula tiene su centro en la posicion del punto de la particula\n",
      "        Inputs\n",
      "    x_g       double    Posicion del punto en la grilla. El dominio de la grilla se define como x_g + dx\n",
      "    x_p       double    Posicion de la particula\n",
      "    dx        double    Longitud del dominio para la particula y para la grilla\n",
      "    \n",
      "        Outputs\n",
      "    output    boolean\n",
      "    \"\"\"\n",
      "    # Dos casos: \n",
      "    # x_p puede ser mayor que x_g\n",
      "    # x_p puede ser menor que x_g\n",
      "    \n",
      "    if x_p == x_g: # Misma posicion\n",
      "        return True\n",
      "    \n",
      "    elif x_p > x_g: # Particula a la derecha del punto en la grilla\n",
      "        if x_p - x_g <= 3.0/2.0*dx: # La maxima distancia entre xp y xg es 3/2 dx\n",
      "            return True\n",
      "            \n",
      "        else:\n",
      "            return False\n",
      "            \n",
      "    else: # Particula a la izquierda del punto en la grilla\n",
      "        if x_p + dx/2 -x_g >= 0:\n",
      "            return True\n",
      "            \n",
      "        else:\n",
      "            return False\n",
      "            \n",
      "        \n",
      "    \n",
      "        \n",
      "    \n",
      "def vecinos(x_g, y_g, z_g, dx, dy, dz, Puntos):\n",
      "    \"\"\"Encuentra las particulas cuyo dominio definido por xp+-dx/2 yp+-dy/2 esta incluido \n",
      "        en el dominio de la malla definido por x_g+dx y_g+dx\n",
      "\n",
      "        Inputs\n",
      "    x_g     double      Posicion x del punto en la grilla\n",
      "    y_g     double      Posicion y del punto en la grilla\n",
      "    z_g     double      Posicion z del punto en la grilla\n",
      "    dx,dy,dz   double      Dimensiones del cubo en la grilla\n",
      "    Puntos array nx3   Posiciones x,y,z de las n particulas muestreadas\n",
      "\n",
      "        Outputs\n",
      "    I       list [m x 1]  Lista con los 'm' indices que representan las particulas cuyo dominio \n",
      "                            esta contenido en el dominio del cuadro de grilla especificado\n",
      "\n",
      "        Uso\n",
      "    I = vecinos(x_g, y_g, dx, dy, Puntos)\n",
      "    \"\"\"\n",
      "    n = len(Puntos)\n",
      "    I = [] # Indices de las particulas vecinas al punto de la grilla\n",
      "    \n",
      "    for i in range(n):\n",
      "        xp,yp,zp = Puntos[i,:]\n",
      "        if (superponen(x_g,xp,dx) and superponen(y_g, yp, dy)) and superponen(z_g, zp, dz):\n",
      "            I.append(i)\n",
      "    return I\n",
      "\n",
      "## Definir grilla con los puntos en la esquina inferior izquierda de cada cuadrado"
     ],
     "language": "python",
     "metadata": {},
     "outputs": [],
     "prompt_number": 31
    },
    {
     "cell_type": "code",
     "collapsed": false,
     "input": [
      "Vecinos = []\n",
      "# Econtrar las particulas que aportan masa a cada cuadrado de la grilla\n",
      "for xg,yg,zg in zip(X_g,Y_g,Z_g):\n",
      "    Vecinos.append(vecinos(xg, yg, zg, dx, dy, dz, Puntos))\n",
      "#Vecinos"
     ],
     "language": "python",
     "metadata": {},
     "outputs": [],
     "prompt_number": 32
    },
    {
     "cell_type": "markdown",
     "metadata": {},
     "source": [
      "###Calcular Densidad"
     ]
    },
    {
     "cell_type": "code",
     "collapsed": false,
     "input": [
      "def W_peso(x, Dx):\n",
      "    \"\"\" Funcion W(x) definida en el enunciado de la tarea\n",
      "    \"\"\"\n",
      "    if -Dx<x:\n",
      "        return(1+x/Dx)\n",
      "    elif x<Dx:\n",
      "        return(1-x/Dx)\n",
      "    else:\n",
      "        return(0)"
     ],
     "language": "python",
     "metadata": {},
     "outputs": [],
     "prompt_number": 33
    },
    {
     "cell_type": "code",
     "collapsed": false,
     "input": [
      "Rho = zeros(shape(X_g))\n",
      "n_g = len(X_g) # Numero de elementos en la malla\n",
      "N = zeros(shape(X_g)) \n",
      "\n",
      "# Iteracion sobre cada elemento de la malla\n",
      "for i in range(n_g):\n",
      "    s = 0;    \n",
      "    # Iteracion en las particulas que afectan al cuadrado i del grid\n",
      "    for j in Vecinos[i]:\n",
      "        #j es la identidad de cada particula\n",
      "        s = s + (W_peso(X_g[i] - Puntos[j,0],dx)*\n",
      "                 W_peso(Y_g[i] - Puntos[j,1],dy))\n",
      "    Rho[i] = m/(dx*dy)*s\n",
      "    #N[i] = len(Vecinos[i])\n",
      "R = reshape(Rho, newshape=shape(X))\n",
      "#Nm = reshape(N, newshape=shape(X))"
     ],
     "language": "python",
     "metadata": {},
     "outputs": [],
     "prompt_number": 34
    },
    {
     "cell_type": "code",
     "collapsed": false,
     "input": [
      "print(shape(X),\"\\n\",shape(Y),\"\\n\",shape(Z),\"\\n\")\n",
      "print(shape(R))"
     ],
     "language": "python",
     "metadata": {},
     "outputs": [
      {
       "output_type": "stream",
       "stream": "stdout",
       "text": [
        "(5, 5, 5) \n",
        " (5, 5, 5) \n",
        " (5, 5, 5) \n",
        "\n",
        "(5, 5, 5)\n"
       ]
      }
     ],
     "prompt_number": 35
    },
    {
     "cell_type": "markdown",
     "metadata": {},
     "source": [
      "## Graficas"
     ]
    },
    {
     "cell_type": "code",
     "collapsed": false,
     "input": [
      "\"\"\"\n",
      "figure(figsize=(12,12))\n",
      "plot(Puntos[:,0], Puntos[:,1],'bo', alpha=0.2)\n",
      "plot(X_g, Y_g,'o',color='black',ms=3)\n",
      "pcolor(X,Y,Nm,alpha=0.4)\n",
      "colorbar()\n",
      "axis('equal')\n",
      "xlim(min(X_g)-dx, max(X_g)+dx)\n",
      "ylim(min(Y_g)-dy, max(Y_g)+dy)\n",
      "\n",
      "title('Densidad',size=20)\n",
      "xlabel('X')\n",
      "ylabel('Y')\n",
      "\"\"\""
     ],
     "language": "python",
     "metadata": {},
     "outputs": [
      {
       "metadata": {},
       "output_type": "pyout",
       "prompt_number": 36,
       "text": [
        "\"\\nfigure(figsize=(12,12))\\nplot(Puntos[:,0], Puntos[:,1],'bo', alpha=0.2)\\nplot(X_g, Y_g,'o',color='black',ms=3)\\npcolor(X,Y,Nm,alpha=0.4)\\ncolorbar()\\naxis('equal')\\nxlim(min(X_g)-dx, max(X_g)+dx)\\nylim(min(Y_g)-dy, max(Y_g)+dy)\\n\\ntitle('Densidad',size=20)\\nxlabel('X')\\nylabel('Y')\\n\""
       ]
      }
     ],
     "prompt_number": 36
    },
    {
     "cell_type": "markdown",
     "metadata": {},
     "source": [
      "En la grafica falta mostrar el color de la ultima fila y la ultima columna. Esto se debe al funcionamiento de la rutina pcolor\n",
      "\n",
      "En general, la grafica de la densidad es coherente con la grafica de la dispersion de los puntos: En las celdas de la malla donde hay mas puntos que aporten masa, se tiene un valor mas alto de densidad.\n",
      "\n",
      "Se corrige error en la funci\u00f3n superponen. Cambiar divisi\u00f3n de enteros por divisi\u00f3n de floats.\n",
      "\n",
      "Para 3D no se presenta grafica. El codigo ya ha sido verificado efectivamente para 2D"
     ]
    },
    {
     "cell_type": "code",
     "collapsed": false,
     "input": [],
     "language": "python",
     "metadata": {},
     "outputs": []
    }
   ],
   "metadata": {}
  }
 ]
}