{
 "metadata": {
  "name": "",
  "signature": "sha256:58f52265d40816016516ef55d2a7e7d59c769d1e749473fa3c17b72dda40c0b0"
 },
 "nbformat": 3,
 "nbformat_minor": 0,
 "worksheets": [
  {
   "cells": [
    {
     "cell_type": "code",
     "collapsed": false,
     "input": [
      "%pylab inline"
     ],
     "language": "python",
     "metadata": {},
     "outputs": [
      {
       "output_type": "stream",
       "stream": "stdout",
       "text": [
        "Populating the interactive namespace from numpy and matplotlib\n"
       ]
      }
     ],
     "prompt_number": 99
    },
    {
     "cell_type": "markdown",
     "metadata": {},
     "source": [
      "###Definir puntos Aleatorios"
     ]
    },
    {
     "cell_type": "code",
     "collapsed": false,
     "input": [
      "l = 2.0\n",
      "m = 1.0 #Masa de cada punto\n",
      "# Puntos aleatorios en x y\n",
      "Puntos = l*random_sample((10,2))"
     ],
     "language": "python",
     "metadata": {},
     "outputs": [],
     "prompt_number": 109
    },
    {
     "cell_type": "markdown",
     "metadata": {},
     "source": [
      "###Definir Grilla"
     ]
    },
    {
     "cell_type": "code",
     "collapsed": false,
     "input": [
      "dx,dy = l/5, l/5\n",
      "x = arange(0,l,dx)\n",
      "y = arange(0,l,dy)\n",
      "X,Y = meshgrid(x,y)\n",
      "# Posiciones x,y de la grilla, cada punto representa la esquina inferior izquierda del cuadrado imaginario\n",
      "# En los arreglos X_g Y_g se guardan las posiciones de estos puntos en la grilla.\n",
      "# Graficamente, estos puntos se van llenando en filas de menor a mayor en x, y las filas se ordenan de menor a mayor en y\n",
      "X_g = X.ravel() \n",
      "Y_g = Y.ravel()"
     ],
     "language": "python",
     "metadata": {},
     "outputs": [],
     "prompt_number": 110
    },
    {
     "cell_type": "code",
     "collapsed": false,
     "input": [
      "def superponen(x_g, x_p, dx):\n",
      "    \"\"\"Analiza si el dominio x_p +- dx/2 esta dentro del rango x_g + dx . Devuelve True o False\n",
      "    Se modela que el cuadrado de la grilla esta determinado por el punto en su esquina inferior izquierda, mientras que el\n",
      "    cuadro de la particula tiene su centro en la posicion del punto de la particula\n",
      "        Inputs\n",
      "    x_g       double    Posicion del punto en la grilla. El dominio de la grilla se define como x_g + dx\n",
      "    x_p       double    Posicion de la particula\n",
      "    dx        double    Longitud del dominio para la particula y para la grilla\n",
      "    \n",
      "        Outputs\n",
      "    output    boolean\n",
      "    \"\"\"\n",
      "    # Dos casos: \n",
      "    # x_p puede ser mayor que x_g\n",
      "    # x_p puede ser menor que x_g\n",
      "    \n",
      "    if x_p == x_g: # Misma posicion\n",
      "        return True\n",
      "    \n",
      "    elif x_p > x_g: # Particula a la derecha del punto en la grilla\n",
      "        if x_p - x_g <= 3.0/2.0*dx: # La maxima distancia entre xp y xg es 3/2 dx\n",
      "            return True\n",
      "            \n",
      "        else:\n",
      "            return False\n",
      "            \n",
      "    else: # Particula a la izquierda del punto en la grilla\n",
      "        if x_p + dx/2 -x_g >= 0:\n",
      "            return True\n",
      "            \n",
      "        else:\n",
      "            return False\n",
      "            \n",
      "        \n",
      "    \n",
      "        \n",
      "    \n",
      "def vecinos(x_g, y_g, dx, dy, Puntos):\n",
      "    \"\"\"Encuentra las particulas cuyo dominio definido por xp+-dx/2 yp+-dy/2 esta incluido \n",
      "        en el dominio de la malla definido por x_g+dx y_g+dx\n",
      "\n",
      "        Inputs\n",
      "    x_g     double      Posicion x del punto en la grilla\n",
      "    y_g     double      Posicion y del punto en la grilla\n",
      "    dx,dy   double      Dimensiones del cuadrado en la grilla\n",
      "    Puntos array n*2   Posiciones x,y de las n particulas muestreadas\n",
      "\n",
      "        Outputs\n",
      "    I       list [m x 1]  Lista con los 'm' indices que representan las particulas cuyo dominio \n",
      "                            esta contenido en el dominio del cuadro de grilla especificado\n",
      "\n",
      "        Uso\n",
      "    I = vecinos(x_g, y_g, dx, dy, Puntos)\n",
      "    \"\"\"\n",
      "    n = len(Puntos)\n",
      "    I = [] # Indices de las particulas vecinas al punto de la grilla\n",
      "    \n",
      "    for i in range(n):\n",
      "        xp,yp = Puntos[i,:]\n",
      "        if (superponen(x_g,xp,dx) and superponen(y_g, yp, dy)):\n",
      "            I.append(i)\n",
      "    \"\"\"    \n",
      "    for i in range(n):\n",
      "        Dx = Puntos[i,0]-x_g\n",
      "        Dy = Puntos[i,1]-y_g\n",
      "        if (Dx<=dx and Dx>=0) and (Dy<=dy and Dy >= 0):\n",
      "            I.append(i)\n",
      "    \"\"\"\n",
      "    return I\n",
      "\n",
      "## Definir grilla con los puntos en la esquina inferior izquierda de cada cuadrado"
     ],
     "language": "python",
     "metadata": {},
     "outputs": [],
     "prompt_number": 111
    },
    {
     "cell_type": "code",
     "collapsed": false,
     "input": [
      "Vecinos = []\n",
      "# Econtrar las particulas que aportan masa a cada cuadrado de la grilla\n",
      "for xg,yg in zip(X_g,Y_g):\n",
      "    Vecinos.append(vecinos(xg, yg, dx, dy, Puntos))\n",
      "#Vecinos"
     ],
     "language": "python",
     "metadata": {},
     "outputs": [],
     "prompt_number": 112
    },
    {
     "cell_type": "markdown",
     "metadata": {},
     "source": [
      "###Calcular Densidad"
     ]
    },
    {
     "cell_type": "code",
     "collapsed": false,
     "input": [
      "def W_peso(x, Dx):\n",
      "    \"\"\" Funcion W(x) definida en el enunciado de la tarea\n",
      "    \"\"\"\n",
      "    if -Dx<x:\n",
      "        return(1+x/Dx)\n",
      "    elif x<Dx:\n",
      "        return(1-x/Dx)\n",
      "    else:\n",
      "        return(0)"
     ],
     "language": "python",
     "metadata": {},
     "outputs": [],
     "prompt_number": 113
    },
    {
     "cell_type": "code",
     "collapsed": false,
     "input": [
      "Rho = zeros(shape(X_g))\n",
      "n_g = len(X_g) # Numero de elementos en la malla\n",
      "N = zeros(shape(X_g)) \n",
      "\n",
      "# Iteracion sobre cada elemento de la malla\n",
      "for i in range(n_g):\n",
      "    s = 0;    \n",
      "    # Iteracion en las particulas que afectan al cuadrado i del grid\n",
      "    for j in Vecinos[i]:\n",
      "        #j es la identidad de cada particula\n",
      "        s = s + (W_peso(X_g[i] - Puntos[j,0],dx)*\n",
      "                 W_peso(Y_g[i] - Puntos[j,1],dy))\n",
      "    Rho[i] = m/(dx*dy)*s\n",
      "    N[i] = len(Vecinos[i])\n",
      "R = reshape(Rho, newshape=shape(X))\n",
      "Nm = reshape(N, newshape=shape(X))"
     ],
     "language": "python",
     "metadata": {},
     "outputs": [],
     "prompt_number": 114
    },
    {
     "cell_type": "markdown",
     "metadata": {},
     "source": [
      "## Graficas"
     ]
    },
    {
     "cell_type": "code",
     "collapsed": false,
     "input": [
      "figure(figsize=(12,12))\n",
      "plot(Puntos[:,0], Puntos[:,1],'bo', alpha=0.2)\n",
      "plot(X_g, Y_g,'o',color='black',ms=3)\n",
      "pcolor(X,Y,Nm,alpha=0.4)\n",
      "colorbar()\n",
      "axis('equal')\n",
      "xlim(min(X_g)-dx, max(X_g)+dx)\n",
      "ylim(min(Y_g)-dy, max(Y_g)+dy)\n",
      "\n",
      "title('Densidad',size=20)\n",
      "xlabel('X')\n",
      "ylabel('Y')"
     ],
     "language": "python",
     "metadata": {},
     "outputs": [
      {
       "metadata": {},
       "output_type": "display_data",
       "png": "[encoded data removed]",
       "text": [
        "<matplotlib.figure.Figure at 0x6e8bdd0>"
       ]
      }
     ],
     "prompt_number": 115
    },
    {
     "cell_type": "markdown",
     "metadata": {},
     "source": [
      "En la grafica falta mostrar el color de la ultima fila y la ultima columna. Esto se debe al funcionamiento de la rutina pcolor\n",
      "\n",
      "En general, la grafica de la densidad es coherente con la grafica de la dispersion de los puntos: En las celdas de la malla donde hay mas puntos que aporten masa, se tiene un valor mas alto de densidad.\n",
      "\n",
      "Se corrige error en la funci\u00f3n superponen. Cambiar divisi\u00f3n de enteros por divisi\u00f3n de floats."
     ]
    },
    {
     "cell_type": "code",
     "collapsed": false,
     "input": [
      "print(Vecinos)"
     ],
     "language": "python",
     "metadata": {},
     "outputs": [
      {
       "output_type": "stream",
       "stream": "stdout",
       "text": [
        "[[0, 1], [0, 1], [], [], [], [1], [1], [], [], [], [], [], [], [], [], [], [], [], [], [], [], [], [], [], []]\n"
       ]
      }
     ],
     "prompt_number": 107
    },
    {
     "cell_type": "code",
     "collapsed": false,
     "input": [],
     "language": "python",
     "metadata": {},
     "outputs": [],
     "prompt_number": 107
    }
   ],
   "metadata": {}
  }
 ]
}